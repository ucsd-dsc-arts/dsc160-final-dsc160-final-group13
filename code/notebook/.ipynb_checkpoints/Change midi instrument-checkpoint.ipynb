{
 "cells": [
  {
   "cell_type": "code",
   "execution_count": 82,
   "metadata": {},
   "outputs": [],
   "source": [
    "from mido import MidiFile, Message"
   ]
  },
  {
   "cell_type": "markdown",
   "metadata": {},
   "source": [
    "1. Calimix"
   ]
  },
  {
   "cell_type": "code",
   "execution_count": 110,
   "metadata": {},
   "outputs": [],
   "source": [
    "SD='results/Calimix/SD.mid'\n",
    "SC='results/Calimix/SC.mid'\n",
    "SF='results/Calimix/SF.mid'\n",
    "LA='results/Calimix/LA.mid'"
   ]
  },
  {
   "cell_type": "code",
   "execution_count": 111,
   "metadata": {},
   "outputs": [],
   "source": [
    "SD_mid=MidiFile(SD)\n",
    "SC_mid=MidiFile(SC)\n",
    "LA_mid=MidiFile(LA)\n",
    "SF_mid=MidiFile(SF)"
   ]
  },
  {
   "cell_type": "code",
   "execution_count": 112,
   "metadata": {},
   "outputs": [],
   "source": [
    "def change_all_instrument(tracks, num, cha):\n",
    "    for i in tracks:\n",
    "        i.insert(0,Message('program_change', program=num, time=0, channel=cha))"
   ]
  },
  {
   "cell_type": "code",
   "execution_count": 113,
   "metadata": {},
   "outputs": [],
   "source": [
    "def change_all_channel(tracks, num):\n",
    "    for i in tracks:\n",
    "        for j in i:\n",
    "            try:\n",
    "                j.channel=num\n",
    "            except Exception:\n",
    "                print(j)"
   ]
  },
  {
   "cell_type": "code",
   "execution_count": 115,
   "metadata": {},
   "outputs": [],
   "source": [
    "change_all_instrument(SD_mid.tracks, 56,0)# Trumpet\n",
    "change_all_instrument(SC_mid.tracks, 40,1)# violin\n",
    "change_all_instrument(SF_mid.tracks, 19,2)# church organ\n",
    "change_all_instrument(LA_mid.tracks, 97,3)# soundtrack"
   ]
  },
  {
   "cell_type": "code",
   "execution_count": 114,
   "metadata": {
    "scrolled": true
   },
   "outputs": [
    {
     "name": "stdout",
     "output_type": "stream",
     "text": [
      "<meta message track_name name='Track 0' time=0>\n",
      "<meta message set_tempo tempo=500000 time=0>\n",
      "<meta message end_of_track time=0>\n",
      "<meta message track_name name='Track 0' time=0>\n",
      "<meta message set_tempo tempo=500000 time=0>\n",
      "<meta message end_of_track time=0>\n",
      "<meta message track_name name='Track 0' time=0>\n",
      "<meta message set_tempo tempo=500000 time=0>\n",
      "<meta message end_of_track time=0>\n",
      "<meta message track_name name='Track 1' time=0>\n",
      "<meta message set_tempo tempo=500000 time=0>\n",
      "<meta message end_of_track time=0>\n",
      "<meta message track_name name='Track 2' time=0>\n",
      "<meta message set_tempo tempo=500000 time=0>\n",
      "<meta message end_of_track time=0>\n",
      "<meta message track_name name='Track 3' time=0>\n",
      "<meta message set_tempo tempo=500000 time=0>\n",
      "<meta message end_of_track time=0>\n"
     ]
    }
   ],
   "source": [
    "change_all_channel(SC_mid.tracks, 1)\n",
    "change_all_channel(SF_mid.tracks, 2)\n",
    "change_all_channel(LA_mid.tracks, 3)"
   ]
  },
  {
   "cell_type": "code",
   "execution_count": 116,
   "metadata": {},
   "outputs": [],
   "source": [
    "SD_mid.tracks.extend(SC_mid.tracks)\n",
    "SD_mid.tracks.extend(LA_mid.tracks)\n",
    "SD_mid.tracks.extend(SF_mid.tracks)\n",
    "SD_mid.save('results/calimix_various.mid')"
   ]
  },
  {
   "cell_type": "markdown",
   "metadata": {},
   "source": [
    "The various instrument version feels more urgent"
   ]
  },
  {
   "cell_type": "markdown",
   "metadata": {},
   "source": [
    "2. Texas"
   ]
  },
  {
   "cell_type": "code",
   "execution_count": 117,
   "metadata": {},
   "outputs": [],
   "source": [
    "AU_mid=MidiFile('results/Texas/AU.mid')\n",
    "DA_mid=MidiFile('results/Texas/DA.mid')\n",
    "EI_mid=MidiFile('results/Texas/EI.mid')\n",
    "HS_mid=MidiFile('results/Texas/HS.mid')"
   ]
  },
  {
   "cell_type": "code",
   "execution_count": 118,
   "metadata": {},
   "outputs": [
    {
     "name": "stdout",
     "output_type": "stream",
     "text": [
      "<meta message track_name name='Track 0' time=0>\n",
      "<meta message set_tempo tempo=500000 time=0>\n",
      "<meta message end_of_track time=0>\n",
      "<meta message track_name name='Track 0' time=0>\n",
      "<meta message set_tempo tempo=500000 time=0>\n",
      "<meta message end_of_track time=0>\n",
      "<meta message track_name name='Track 0' time=0>\n",
      "<meta message set_tempo tempo=500000 time=0>\n",
      "<meta message end_of_track time=0>\n"
     ]
    }
   ],
   "source": [
    "change_all_channel(DA_mid.tracks, 1)\n",
    "change_all_channel(EI_mid.tracks, 2)\n",
    "change_all_channel(HS_mid.tracks, 3)"
   ]
  },
  {
   "cell_type": "code",
   "execution_count": 119,
   "metadata": {},
   "outputs": [],
   "source": [
    "change_all_instrument(AU_mid.tracks, 27,0)# electric guitar (clean)\n",
    "change_all_instrument(DA_mid.tracks, 33,1)# electric bass (finger)\n",
    "change_all_instrument(EI_mid.tracks, 4,2)# electric piano\n",
    "change_all_instrument(HS_mid.tracks, 118,3)# synth drum"
   ]
  },
  {
   "cell_type": "code",
   "execution_count": 120,
   "metadata": {},
   "outputs": [],
   "source": [
    "AU_mid.tracks.extend(DA_mid.tracks)\n",
    "AU_mid.tracks.extend(EI_mid.tracks)\n",
    "AU_mid.tracks.extend(HS_mid.tracks)\n",
    "AU_mid.save('results/Texas_various.mid')"
   ]
  },
  {
   "cell_type": "markdown",
   "metadata": {},
   "source": [
    "The drum beat gives more tense feeling"
   ]
  },
  {
   "cell_type": "markdown",
   "metadata": {},
   "source": [
    "3. NY mix"
   ]
  },
  {
   "cell_type": "code",
   "execution_count": 121,
   "metadata": {},
   "outputs": [],
   "source": [
    "WY_mid=MidiFile('results/NYmix/WY.mid')\n",
    "AL_mid=MidiFile('results/NYmix/AL.mid')\n",
    "SA_mid=MidiFile('results/NYmix/SA.mid')\n",
    "ES_mid=MidiFile('results/NYmix/ES.mid')"
   ]
  },
  {
   "cell_type": "code",
   "execution_count": 122,
   "metadata": {},
   "outputs": [
    {
     "name": "stdout",
     "output_type": "stream",
     "text": [
      "<meta message track_name name='Track 0' time=0>\n",
      "<meta message set_tempo tempo=500000 time=0>\n",
      "<meta message end_of_track time=0>\n",
      "<meta message track_name name='Track 0' time=0>\n",
      "<meta message set_tempo tempo=500000 time=0>\n",
      "<meta message end_of_track time=0>\n",
      "<meta message track_name name='Track 0' time=0>\n",
      "<meta message set_tempo tempo=500000 time=0>\n",
      "<meta message end_of_track time=0>\n"
     ]
    }
   ],
   "source": [
    "change_all_channel(AL_mid.tracks, 1)\n",
    "change_all_channel(SA_mid.tracks, 2)\n",
    "change_all_channel(ES_mid.tracks, 3)"
   ]
  },
  {
   "cell_type": "code",
   "execution_count": 123,
   "metadata": {},
   "outputs": [],
   "source": [
    "change_all_instrument(WY_mid.tracks, 40,0)# violin\n",
    "change_all_instrument(AL_mid.tracks, 10,1)# music box\n",
    "change_all_instrument(SA_mid.tracks, 52,2)# choir aahs\n",
    "change_all_instrument(ES_mid.tracks, 54,3)# synth choir"
   ]
  },
  {
   "cell_type": "code",
   "execution_count": 124,
   "metadata": {},
   "outputs": [],
   "source": [
    "WY_mid.tracks.extend(AL_mid.tracks)\n",
    "WY_mid.tracks.extend(SA_mid.tracks)\n",
    "WY_mid.tracks.extend(ES_mid.tracks)\n",
    "WY_mid.save('results/NYmix_various.mid')"
   ]
  },
  {
   "cell_type": "markdown",
   "metadata": {},
   "source": [
    "Using people's singing to represnet a feeling of emptiness and terror"
   ]
  },
  {
   "cell_type": "code",
   "execution_count": null,
   "metadata": {},
   "outputs": [],
   "source": []
  }
 ],
 "metadata": {
  "kernelspec": {
   "display_name": "Python 3",
   "language": "python",
   "name": "python3"
  },
  "language_info": {
   "codemirror_mode": {
    "name": "ipython",
    "version": 3
   },
   "file_extension": ".py",
   "mimetype": "text/x-python",
   "name": "python",
   "nbconvert_exporter": "python",
   "pygments_lexer": "ipython3",
   "version": "3.7.7"
  }
 },
 "nbformat": 4,
 "nbformat_minor": 2
}
