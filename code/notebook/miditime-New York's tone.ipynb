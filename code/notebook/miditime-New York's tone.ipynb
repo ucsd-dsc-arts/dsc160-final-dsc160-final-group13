{
 "cells": [
  {
   "cell_type": "code",
   "execution_count": 1,
   "metadata": {},
   "outputs": [],
   "source": [
    "import pandas as pd"
   ]
  },
  {
   "cell_type": "code",
   "execution_count": 26,
   "metadata": {},
   "outputs": [],
   "source": [
    "time=pd.read_csv('data/time_series_data.csv')\n",
    "others=pd.read_csv('data/other_information.csv')\n",
    "location=pd.read_csv('data/location.csv')"
   ]
  },
  {
   "cell_type": "code",
   "execution_count": 33,
   "metadata": {},
   "outputs": [],
   "source": [
    "from miditime.miditime import MIDITime"
   ]
  },
  {
   "cell_type": "code",
   "execution_count": 40,
   "metadata": {},
   "outputs": [],
   "source": [
    "#try a city (new york):\n",
    "new_york=time[time['Combined_Key'].str.match('New York')]\n"
   ]
  },
  {
   "cell_type": "code",
   "execution_count": 52,
   "metadata": {},
   "outputs": [],
   "source": [
    "#rename to days after out break\n",
    "data=new_york.iloc[0,:]\n",
    "data=data[1:]"
   ]
  },
  {
   "cell_type": "code",
   "execution_count": 53,
   "metadata": {},
   "outputs": [
    {
     "data": {
      "text/plain": [
       "Int64Index([  0,   1,   2,   3,   4,   5,   6,   7,   8,   9,\n",
       "            ...\n",
       "            125, 126, 127, 128, 129, 130, 131, 132, 133, 134],\n",
       "           dtype='int64', length=135)"
      ]
     },
     "execution_count": 53,
     "metadata": {},
     "output_type": "execute_result"
    }
   ],
   "source": [
    "data.index=list(range(len(data)))\n",
    "data.index"
   ]
  },
  {
   "cell_type": "code",
   "execution_count": 54,
   "metadata": {},
   "outputs": [],
   "source": [
    "data=data.to_dict()"
   ]
  },
  {
   "cell_type": "code",
   "execution_count": 56,
   "metadata": {},
   "outputs": [],
   "source": [
    "data=[{'beat': d, \"overall\": data[d]} for d in data.keys()]"
   ]
  },
  {
   "cell_type": "code",
   "execution_count": 91,
   "metadata": {},
   "outputs": [],
   "source": [
    "# my midi base, 120s for a year\n",
    "mymidi = MIDITime(120, 'results/new_york_overall.mid', 120, 5, 1)"
   ]
  },
  {
   "cell_type": "code",
   "execution_count": 92,
   "metadata": {},
   "outputs": [],
   "source": [
    "my_data_timed = [{'beat': mymidi.beat(d['beat']), 'magnitude': d['overall']} for d in data]"
   ]
  },
  {
   "cell_type": "code",
   "execution_count": 93,
   "metadata": {},
   "outputs": [],
   "source": [
    "base=new_york.iloc[0,:][1:]"
   ]
  },
  {
   "cell_type": "code",
   "execution_count": 94,
   "metadata": {},
   "outputs": [],
   "source": [
    "min_b=min(base)"
   ]
  },
  {
   "cell_type": "code",
   "execution_count": 95,
   "metadata": {},
   "outputs": [],
   "source": [
    "max_b=max(base)"
   ]
  },
  {
   "cell_type": "code",
   "execution_count": 96,
   "metadata": {},
   "outputs": [],
   "source": [
    "def mag_to_pitch_tuned(magnitude, low=min_b, high=max_b):\n",
    "    # Where does this data point sit in the domain of your data? (I.E. the min magnitude is 3, the max in 5.6). In this case the optional 'True' means the scale is reversed, so the highest value will return the lowest percentage.\n",
    "    scale_pct = mymidi.linear_scale_pct(low, high, magnitude)\n",
    "\n",
    "    # Another option: Linear scale, reverse order\n",
    "    # scale_pct = mymidi.linear_scale_pct(3, 5.7, magnitude, True)\n",
    "\n",
    "    # Another option: Logarithmic scale, reverse order\n",
    "    #scale_pct = mymidi.log_scale_pct(low, high, magnitude, True)\n",
    "\n",
    "    # Pick a range of notes. This allows you to play in a key.\n",
    "    c_major = ['C', 'D', 'E', 'F', 'G', 'A', 'B']\n",
    "    #Find the note that matches your data point\n",
    "   \n",
    "    note = mymidi.scale_to_note(scale_pct, c_major)\n",
    "\n",
    "    #Translate that note to a MIDI pitch\n",
    "    midi_pitch = mymidi.note_to_midi_pitch(note)\n",
    "\n",
    "    return midi_pitch"
   ]
  },
  {
   "cell_type": "code",
   "execution_count": 97,
   "metadata": {},
   "outputs": [],
   "source": [
    "note_list = []\n",
    "counter=0\n",
    "for d in my_data_timed:\n",
    "    try:\n",
    "        note_list.append([\n",
    "            d['beat'],\n",
    "            mag_to_pitch_tuned(d['magnitude']),\n",
    "            100,  # velocity\n",
    "            1  # duration, in beats\n",
    "        ])\n",
    "        counter +=1\n",
    "    except Exception as e:\n",
    "        print(d['beat'])\n",
    "        print(counter)\n",
    "        # some notes may do not match"
   ]
  },
  {
   "cell_type": "code",
   "execution_count": 98,
   "metadata": {},
   "outputs": [
    {
     "name": "stdout",
     "output_type": "stream",
     "text": [
      "60 0.0 1 100\n",
      "60 0.66 1 100\n",
      "60 1.31 1 100\n",
      "60 1.97 1 100\n",
      "60 2.63 1 100\n",
      "60 3.29 1 100\n",
      "60 3.94 1 100\n",
      "60 4.6 1 100\n",
      "60 5.26 1 100\n",
      "60 5.91 1 100\n",
      "60 6.57 1 100\n",
      "60 7.23 1 100\n",
      "60 7.89 1 100\n",
      "60 8.54 1 100\n",
      "60 9.2 1 100\n",
      "60 9.86 1 100\n",
      "60 10.51 1 100\n",
      "60 11.17 1 100\n",
      "60 11.83 1 100\n",
      "60 12.48 1 100\n",
      "60 13.14 1 100\n",
      "60 13.8 1 100\n",
      "60 14.46 1 100\n",
      "60 15.11 1 100\n",
      "60 15.77 1 100\n",
      "60 16.43 1 100\n",
      "60 17.08 1 100\n",
      "60 17.74 1 100\n",
      "60 18.4 1 100\n",
      "60 19.06 1 100\n",
      "60 19.71 1 100\n",
      "60 20.37 1 100\n",
      "60 21.03 1 100\n",
      "60 21.68 1 100\n",
      "60 22.34 1 100\n",
      "60 23.0 1 100\n",
      "60 23.66 1 100\n",
      "60 24.31 1 100\n",
      "60 24.97 1 100\n",
      "60 25.63 1 100\n",
      "60 26.28 1 100\n",
      "60 26.94 1 100\n",
      "60 27.6 1 100\n",
      "60 28.25 1 100\n",
      "60 28.91 1 100\n",
      "60 29.57 1 100\n",
      "60 30.23 1 100\n",
      "60 30.88 1 100\n",
      "60 31.54 1 100\n",
      "60 32.2 1 100\n",
      "60 32.85 1 100\n",
      "60 33.51 1 100\n",
      "60 34.17 1 100\n",
      "60 34.83 1 100\n",
      "60 35.48 1 100\n",
      "60 36.14 1 100\n",
      "60 36.8 1 100\n",
      "60 37.45 1 100\n",
      "60 38.11 1 100\n",
      "60 38.77 1 100\n",
      "60 39.43 1 100\n",
      "60 40.08 1 100\n",
      "60 40.74 1 100\n",
      "60 41.4 1 100\n",
      "60 42.05 1 100\n",
      "60 42.71 1 100\n",
      "62 43.37 1 100\n",
      "62 44.02 1 100\n",
      "62 44.68 1 100\n",
      "62 45.34 1 100\n",
      "62 46.0 1 100\n",
      "62 46.65 1 100\n",
      "62 47.31 1 100\n",
      "64 47.97 1 100\n",
      "64 48.62 1 100\n",
      "64 49.28 1 100\n",
      "64 49.94 1 100\n",
      "64 50.6 1 100\n",
      "64 51.25 1 100\n",
      "65 51.91 1 100\n",
      "65 52.57 1 100\n",
      "65 53.22 1 100\n",
      "65 53.88 1 100\n",
      "65 54.54 1 100\n",
      "67 55.2 1 100\n",
      "67 55.85 1 100\n",
      "67 56.51 1 100\n",
      "67 57.17 1 100\n",
      "67 57.82 1 100\n",
      "67 58.48 1 100\n",
      "67 59.14 1 100\n",
      "67 59.79 1 100\n",
      "67 60.45 1 100\n",
      "69 61.11 1 100\n",
      "69 61.77 1 100\n",
      "69 62.42 1 100\n",
      "69 63.08 1 100\n",
      "69 63.74 1 100\n",
      "69 64.39 1 100\n",
      "69 65.05 1 100\n",
      "69 65.71 1 100\n",
      "69 66.37 1 100\n",
      "69 67.02 1 100\n",
      "69 67.68 1 100\n",
      "71 68.34 1 100\n",
      "71 68.99 1 100\n",
      "71 69.65 1 100\n",
      "71 70.31 1 100\n",
      "71 70.97 1 100\n",
      "71 71.62 1 100\n",
      "71 72.28 1 100\n",
      "71 72.94 1 100\n",
      "71 73.59 1 100\n",
      "71 74.25 1 100\n",
      "71 74.91 1 100\n",
      "71 75.56 1 100\n",
      "71 76.22 1 100\n",
      "71 76.88 1 100\n",
      "71 77.54 1 100\n",
      "71 78.19 1 100\n",
      "71 78.85 1 100\n",
      "71 79.51 1 100\n",
      "71 80.16 1 100\n",
      "71 80.82 1 100\n",
      "71 81.48 1 100\n",
      "71 82.14 1 100\n",
      "71 82.79 1 100\n",
      "71 83.45 1 100\n",
      "71 84.11 1 100\n",
      "71 84.76 1 100\n",
      "71 85.42 1 100\n",
      "71 86.08 1 100\n",
      "71 86.74 1 100\n",
      "71 87.39 1 100\n",
      "71 88.05 1 100\n"
     ]
    }
   ],
   "source": [
    "#finish\n",
    "mymidi.add_track(note_list)\n",
    "mymidi.save_midi()"
   ]
  },
  {
   "cell_type": "markdown",
   "metadata": {},
   "source": [
    "The midi sounds like it is growing higher and higher, so maybe I can use some differences in data to see variantion"
   ]
  },
  {
   "cell_type": "code",
   "execution_count": 100,
   "metadata": {},
   "outputs": [],
   "source": [
    "data2=base.diff()"
   ]
  },
  {
   "cell_type": "code",
   "execution_count": 102,
   "metadata": {},
   "outputs": [],
   "source": [
    "data2=data2.fillna(0)"
   ]
  },
  {
   "cell_type": "code",
   "execution_count": 104,
   "metadata": {},
   "outputs": [],
   "source": [
    "data2.index=list(range(len(data2)))\n",
    "data2=data2.to_dict()\n",
    "data2=[{'beat': d, \"overall\": data2[d]} for d in data2.keys()]"
   ]
  },
  {
   "cell_type": "code",
   "execution_count": 105,
   "metadata": {},
   "outputs": [],
   "source": [
    "mymidi2 = MIDITime(120, 'results/new_york_daily.mid', 120, 5, 1)"
   ]
  },
  {
   "cell_type": "code",
   "execution_count": 106,
   "metadata": {},
   "outputs": [],
   "source": [
    "my_data_timed2 = [{'beat': mymidi2.beat(d['beat']), 'magnitude': d['overall']} for d in data2]"
   ]
  },
  {
   "cell_type": "code",
   "execution_count": 108,
   "metadata": {},
   "outputs": [],
   "source": [
    "min_b2=min(base.diff().fillna(0))"
   ]
  },
  {
   "cell_type": "code",
   "execution_count": 110,
   "metadata": {},
   "outputs": [],
   "source": [
    "max_b2=max(base.diff().fillna(0))"
   ]
  },
  {
   "cell_type": "code",
   "execution_count": 111,
   "metadata": {},
   "outputs": [],
   "source": [
    "note_list2 = []\n",
    "counter=0\n",
    "for d in my_data_timed2:\n",
    "    try:\n",
    "        note_list2.append([\n",
    "            d['beat'],\n",
    "            mag_to_pitch_tuned(d['magnitude'], min_b2, max_b2),\n",
    "            100,  # velocity\n",
    "            1  # duration, in beats\n",
    "        ])\n",
    "        counter +=1\n",
    "    except Exception as e:\n",
    "        print(d['beat'])\n",
    "        print(counter)\n",
    "        # some notes may do not match"
   ]
  },
  {
   "cell_type": "code",
   "execution_count": 112,
   "metadata": {},
   "outputs": [
    {
     "name": "stdout",
     "output_type": "stream",
     "text": [
      "60 0.0 1 100\n",
      "60 0.66 1 100\n",
      "60 1.31 1 100\n",
      "60 1.97 1 100\n",
      "60 2.63 1 100\n",
      "60 3.29 1 100\n",
      "60 3.94 1 100\n",
      "60 4.6 1 100\n",
      "60 5.26 1 100\n",
      "60 5.91 1 100\n",
      "60 6.57 1 100\n",
      "60 7.23 1 100\n",
      "60 7.89 1 100\n",
      "60 8.54 1 100\n",
      "60 9.2 1 100\n",
      "60 9.86 1 100\n",
      "60 10.51 1 100\n",
      "60 11.17 1 100\n",
      "60 11.83 1 100\n",
      "60 12.48 1 100\n",
      "60 13.14 1 100\n",
      "60 13.8 1 100\n",
      "60 14.46 1 100\n",
      "60 15.11 1 100\n",
      "60 15.77 1 100\n",
      "60 16.43 1 100\n",
      "60 17.08 1 100\n",
      "60 17.74 1 100\n",
      "60 18.4 1 100\n",
      "60 19.06 1 100\n",
      "60 19.71 1 100\n",
      "60 20.37 1 100\n",
      "60 21.03 1 100\n",
      "60 21.68 1 100\n",
      "60 22.34 1 100\n",
      "60 23.0 1 100\n",
      "60 23.66 1 100\n",
      "60 24.31 1 100\n",
      "60 24.97 1 100\n",
      "60 25.63 1 100\n",
      "60 26.28 1 100\n",
      "60 26.94 1 100\n",
      "60 27.6 1 100\n",
      "60 28.25 1 100\n",
      "60 28.91 1 100\n",
      "60 29.57 1 100\n",
      "60 30.23 1 100\n",
      "60 30.88 1 100\n",
      "60 31.54 1 100\n",
      "60 32.2 1 100\n",
      "60 32.85 1 100\n",
      "60 33.51 1 100\n",
      "60 34.17 1 100\n",
      "60 34.83 1 100\n",
      "60 35.48 1 100\n",
      "60 36.14 1 100\n",
      "60 36.8 1 100\n",
      "62 37.45 1 100\n",
      "62 38.11 1 100\n",
      "64 38.77 1 100\n",
      "62 39.43 1 100\n",
      "64 40.08 1 100\n",
      "64 40.74 1 100\n",
      "64 41.4 1 100\n",
      "65 42.05 1 100\n",
      "65 42.71 1 100\n",
      "65 43.37 1 100\n",
      "65 44.02 1 100\n",
      "65 44.68 1 100\n",
      "69 45.34 1 100\n",
      "65 46.0 1 100\n",
      "65 46.65 1 100\n",
      "67 47.31 1 100\n",
      "69 47.97 1 100\n",
      "65 48.62 1 100\n",
      "67 49.28 1 100\n",
      "67 49.94 1 100\n",
      "67 50.6 1 100\n",
      "67 51.25 1 100\n",
      "67 51.91 1 100\n",
      "69 52.57 1 100\n",
      "67 53.22 1 100\n",
      "65 53.88 1 100\n",
      "65 54.54 1 100\n",
      "71 55.2 1 100\n",
      "67 55.85 1 100\n",
      "65 56.51 1 100\n",
      "65 57.17 1 100\n",
      "64 57.82 1 100\n",
      "64 58.48 1 100\n",
      "64 59.14 1 100\n",
      "64 59.79 1 100\n",
      "65 60.45 1 100\n",
      "67 61.11 1 100\n",
      "67 61.77 1 100\n",
      "64 62.42 1 100\n",
      "62 63.08 1 100\n",
      "62 63.74 1 100\n",
      "64 64.39 1 100\n",
      "64 65.05 1 100\n",
      "62 65.71 1 100\n",
      "64 66.37 1 100\n",
      "62 67.02 1 100\n",
      "62 67.68 1 100\n",
      "62 68.34 1 100\n",
      "62 68.99 1 100\n",
      "62 69.65 1 100\n",
      "62 70.31 1 100\n",
      "62 70.97 1 100\n",
      "62 71.62 1 100\n",
      "60 72.28 1 100\n",
      "60 72.94 1 100\n",
      "62 73.59 1 100\n",
      "62 74.25 1 100\n",
      "62 74.91 1 100\n",
      "62 75.56 1 100\n",
      "60 76.22 1 100\n",
      "60 76.88 1 100\n",
      "60 77.54 1 100\n",
      "60 78.19 1 100\n",
      "62 78.85 1 100\n",
      "60 79.51 1 100\n",
      "60 80.16 1 100\n",
      "60 80.82 1 100\n",
      "60 81.48 1 100\n",
      "60 82.14 1 100\n",
      "60 82.79 1 100\n",
      "60 83.45 1 100\n",
      "60 84.11 1 100\n",
      "60 84.76 1 100\n",
      "60 85.42 1 100\n",
      "60 86.08 1 100\n",
      "60 86.74 1 100\n",
      "60 87.39 1 100\n",
      "60 88.05 1 100\n"
     ]
    }
   ],
   "source": [
    "#finish\n",
    "mymidi2.add_track(note_list2)\n",
    "mymidi2.save_midi()"
   ]
  },
  {
   "cell_type": "code",
   "execution_count": null,
   "metadata": {},
   "outputs": [],
   "source": []
  }
 ],
 "metadata": {
  "kernelspec": {
   "display_name": "Python 3",
   "language": "python",
   "name": "python3"
  },
  "language_info": {
   "codemirror_mode": {
    "name": "ipython",
    "version": 3
   },
   "file_extension": ".py",
   "mimetype": "text/x-python",
   "name": "python",
   "nbconvert_exporter": "python",
   "pygments_lexer": "ipython3",
   "version": "3.7.3"
  }
 },
 "nbformat": 4,
 "nbformat_minor": 2
}
