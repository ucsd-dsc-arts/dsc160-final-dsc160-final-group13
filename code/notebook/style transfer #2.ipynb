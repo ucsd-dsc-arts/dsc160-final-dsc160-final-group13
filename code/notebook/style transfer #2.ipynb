{
 "cells": [
  {
   "cell_type": "code",
   "execution_count": 9,
   "metadata": {},
   "outputs": [],
   "source": [
    "import pandas as pd\n",
    "import numpy as np\n",
    "import math\n",
    "from miditime.miditime import MIDITime\n",
    "from mido import MidiFile, Message"
   ]
  },
  {
   "cell_type": "code",
   "execution_count": 10,
   "metadata": {},
   "outputs": [],
   "source": [
    "SD_mid=MidiFile(\"myfile.mid\")\n",
    "\n",
    "# mymidi.save_midi()\n",
    "# timidity myfile.mid"
   ]
  },
  {
   "cell_type": "code",
   "execution_count": 11,
   "metadata": {},
   "outputs": [],
   "source": [
    "def change_all_instrument(tracks, num, cha):\n",
    "    for i in tracks:\n",
    "        i.insert(0,Message('program_change', program=num, time=0, channel=cha))\n",
    "        \n",
    "def change_all_channel(tracks, num):\n",
    "    for i in tracks:\n",
    "        for j in i:\n",
    "            try:\n",
    "                j.channel=num\n",
    "            except Exception:\n",
    "                print(j)\n",
    "\n"
   ]
  },
  {
   "cell_type": "code",
   "execution_count": 13,
   "metadata": {},
   "outputs": [
    {
     "name": "stdout",
     "output_type": "stream",
     "text": [
      "<meta message track_name name='Track 0' time=0>\n",
      "<meta message set_tempo tempo=500000 time=0>\n",
      "<meta message end_of_track time=0>\n",
      "<meta message track_name name='Track 0' time=0>\n",
      "<meta message set_tempo tempo=500000 time=0>\n",
      "<meta message end_of_track time=0>\n"
     ]
    }
   ],
   "source": [
    "change_all_instrument(SD_mid.tracks,56,0) # Trumpet\n",
    "change_all_channel(SD_mid.tracks, 1)\n",
    "SD_mid.tracks.extend(SD_mid.tracks)\n",
    "SD_mid.save('results/trumpet-one.mid')\n",
    "# mymidi.save_midi()"
   ]
  },
  {
   "cell_type": "code",
   "execution_count": null,
   "metadata": {},
   "outputs": [],
   "source": []
  }
 ],
 "metadata": {
  "kernelspec": {
   "display_name": "Python 3",
   "language": "python",
   "name": "python3"
  },
  "language_info": {
   "codemirror_mode": {
    "name": "ipython",
    "version": 3
   },
   "file_extension": ".py",
   "mimetype": "text/x-python",
   "name": "python",
   "nbconvert_exporter": "python",
   "pygments_lexer": "ipython3",
   "version": "3.7.7"
  }
 },
 "nbformat": 4,
 "nbformat_minor": 2
}
